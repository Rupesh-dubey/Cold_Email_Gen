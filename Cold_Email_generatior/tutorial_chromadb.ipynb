{
 "cells": [
  {
   "cell_type": "code",
   "execution_count": 3,
   "metadata": {},
   "outputs": [],
   "source": [
    "import chromadb\n"
   ]
  },
  {
   "cell_type": "code",
   "execution_count": 4,
   "metadata": {},
   "outputs": [],
   "source": [
    "client = chromadb.Client()\n",
    "collection = client.create_collection(name=\"my_collection\")"
   ]
  },
  {
   "cell_type": "code",
   "execution_count": 5,
   "metadata": {},
   "outputs": [],
   "source": [
    "collection.add(\n",
    "  documents=[\"This is about delhi\",\n",
    "              \"This is about New York\"],\n",
    "  ids=['id1','id2'],\n",
    "  metadatas=[\n",
    "    {\"url\":\"https://en.wikipedia.org/wiki/New_York_City\"},\n",
    "    {\"url\":\"https://en.wikipedia.org/wiki/Delhi\"}\n",
    "  ]\n",
    ")"
   ]
  },
  {
   "cell_type": "code",
   "execution_count": 6,
   "metadata": {},
   "outputs": [
    {
     "data": {
      "text/plain": [
       "{'ids': ['id1', 'id2'],\n",
       " 'embeddings': None,\n",
       " 'metadatas': [{'url': 'https://en.wikipedia.org/wiki/New_York_City'},\n",
       "  {'url': 'https://en.wikipedia.org/wiki/Delhi'}],\n",
       " 'documents': ['This is about delhi', 'This is about New York'],\n",
       " 'uris': None,\n",
       " 'data': None,\n",
       " 'included': ['metadatas', 'documents']}"
      ]
     },
     "execution_count": 6,
     "metadata": {},
     "output_type": "execute_result"
    }
   ],
   "source": [
    "allcollection = collection.get()\n",
    "allcollection"
   ]
  },
  {
   "cell_type": "code",
   "execution_count": 14,
   "metadata": {},
   "outputs": [],
   "source": [
    "results  = collection.query(\n",
    "  query_texts = ['Query is about Chole Bhature'],\n",
    "  n_results = 2\n",
    ")"
   ]
  },
  {
   "cell_type": "code",
   "execution_count": 15,
   "metadata": {},
   "outputs": [
    {
     "data": {
      "text/plain": [
       "{'ids': [['id1', 'id2']],\n",
       " 'distances': [[1.3736414909362793, 1.8788071870803833]],\n",
       " 'metadatas': [[{'url': 'https://en.wikipedia.org/wiki/New_York_City'},\n",
       "   {'url': 'https://en.wikipedia.org/wiki/Delhi'}]],\n",
       " 'embeddings': None,\n",
       " 'documents': [['This is about delhi', 'This is about New York']],\n",
       " 'uris': None,\n",
       " 'data': None,\n",
       " 'included': ['metadatas', 'documents', 'distances']}"
      ]
     },
     "execution_count": 15,
     "metadata": {},
     "output_type": "execute_result"
    }
   ],
   "source": [
    "results"
   ]
  },
  {
   "cell_type": "code",
   "execution_count": 8,
   "metadata": {},
   "outputs": [],
   "source": [
    "job_metadata =\" https://jobs.nike.com/job/R-38301?from=job%20search%20funnel\""
   ]
  },
  {
   "cell_type": "code",
   "execution_count": 9,
   "metadata": {},
   "outputs": [
    {
     "name": "stderr",
     "output_type": "stream",
     "text": [
      "USER_AGENT environment variable not set, consider setting it to identify your requests.\n"
     ]
    },
    {
     "name": "stdout",
     "output_type": "stream",
     "text": [
      "Solliciteren voor Lead Software Engineer\n",
      "\n",
      "Zoek vacaturesNavigatie overslaanZoek vacaturesNIKE, INC. JOBSFuncties op opdrachtbasisJoin The Talent CommunityLife @ NikeOverzichtArbeidsvoorwaardenMerkenOverzichtJordanConverseTeamsOverzichtAdministrative SupportAdvanced InnovationAir Manufacturing InnovationAviationCommunicationsCustomer ServiceDesignDigitalFaciliteitenFinance & AccountingGovernment & Public AffairsHuman ResourcesData & AnalyticsLegalManufacturing & EngineeringMarketingMerchandisingPlanningPrivacyProcurementProduct Creation, Development & ManagementRetail CorporateRetail StoresSalesSociale en community-impactSports MarketingStrategic PlanningSupply Chain, Distribution & LogisticsSustainabilityTechnologyLocatiesOverzichtNike WHQNike New York HQEHQ: Hilversum, NederlandELC: Laakdal, BelgiumGreater China HQDiversiteit, gelijkheid en inclusieOverzichtMilitairenBeperking en inclusieInclusie van Native AmericansStagesTechnologyLead Software EngineerHilversum, North HollandWord onderdeel van het NIKE, Inc. teamNIKE, Inc. doet meer dan alleen de beste atleten ter wereld uitrusten. Ons bedrijf is een plek om volledig tot ontplooiing te komen, grenzen af te breken en het onmogelijke mogelijk te maken. Wij zoeken naar mensen die kunnen groeien, denken, dromen en creëren. Kenmerkend voor onze cultuur is dat we diversiteit omarmen en voorstellingsvermogen belonen. Als merk zoeken we naar presteerders, leiders en visionairs. Bij NIKE, Inc. draait het om iedereen die vaardigheden en passie met zich meebrengt naar dit uitdagende en voortdurend veranderende spel.NIKE is een technologiebedrijf. De teams van NIKE Global Technology hebben als doel om revolutionaire stappen te zetten op het gebied waar sport en technologie samenkomen, of het nu gaat om onze hoofdwebsite, onze vijfsterren-apps, productontwikkeling, het beheer van big data, of geavanceerde techniek en systeemsupport. We investeren in het ontwikkelen van nieuwe technologieën. We hebben de meest creatieve mensen ter wereld in dienst en helpen ze om voortdurend te innoveren, de dingen opnieuw te bekijken en klanten directer en persoonlijker van dienst te zijn.  Onze teams zijn innovatief, divers, multidisciplinair en gericht op samenwerking. Ze willen de wereld de technologie van de toekomst brengen.Lead Software Engineer - Java Spring Boot, AWS, Python | Nike Technology Become a Part of the NIKE, Inc. TeamAt NIKE, Inc., we do more than create sportswear; we innovate the future of sport and technology. Our culture thrives on diversity, creativity, and collaboration, where individuals are empowered to push the boundaries of what's possible. We are looking for those who can dream, build, and inspire.At Nike Global Technology, we power the world's largest sports brand with groundbreaking digital experiences. From our mobile apps to the cloud infrastructure, we are revolutionizing the way we connect with athletes, customers, and teams worldwide. We foster a culture of continuous learning, innovation, and a growth mindset. Now, we’re seeking a talented Lead Software Engineer to join our team and drive impactful changes across the technology landscape.Who We Are Looking ForWe are searching for an experienced Lead Software Engineer with deep expertise in backend technologies and cloud infrastructure. You’ll be leading a dynamic team of engineers working on high-impact, distributed systems leveraging Java Spring Boot in AWS ECS environments and Python for serverless Lambda functions. While backend development will be your primary focus, you’ll also support a frontend stack built with VueJS, with an eye towards future transition to ReactJS.The ideal candidate is not only passionate about coding but also thrives in mentoring teams, embracing best practices, and driving innovation within an agile, fast-paced environment.What You Will Work OnLead the design, development and deployment of cloud-based services, primarily using Java Spring Boot and AWS.Architect, build and maintain services on AWS ECS, with Python utilized for Lambda functions.Guide the team in maintaining front-end services (VueJS), with long-term plans to transition to ReactJS.Collaborate with Architects, Product Managers and other engineering teams to deliver cutting-edge solutions that meet evolving consumer needs.Actively participate in code reviews, technical design discussions and advocate for best practices across cloud, security, and DevOps.Lead technical backlog management, ensuring team alignment with business goals and architectural guidelines.Mentor and inspire a team of software engineers to grow and develop professionally.Drive continuous improvement through agile processes, fostering a culture of collaboration, innovation, and continuous learning.Who You Will Work WithYou’ll work closely with cross-functional teams, including Product Managers, Architects and fellow Engineers, to shape the future of Nike's digital experiences. As a Lead Software Engineer, you’ll be instrumental in helping the team reach their potential, delivering high-quality solutions while fostering an inclusive, collaborative environment. You’ll also partner with other technical leaders to ensure strategic alignment across global teams.What You BringProven xperience in software development, with significant hands-on expertise in Java Spring Boot and Python.Proficiency in JavaScript frameworks (VueJS/React) with an eagerness to lead the transition from VueJS to ReactJS.Advanced experience with AWS cloud services.Deep understanding of microservices architecture, API development and distributed systems.Experience with DevOps tools (CI/CD pipelines, Jenkins, Git), automated testing, and agile methodologies.Excellent leadership and communication skills, with a passion for mentoring and developing teams.Ability to manage multiple projects in a fast-paced environment, always striving for technical excellence.A continuous learner with a growth mindset, ready to take on new challenges and push the limits of what’s possible.NO RELOCATION SUPPORT WILL BE PROVIDED FOR THIS ROLE.This job posting will expire on the 14th of October.NIKE, Inc. is een sterk groeiend bedrijf dat zoekt naar teamleden die willen meegroeien. Nike biedt een aantrekkelijk pakket arbeidsvoorwaarden, een informele werkomgeving, een diverse en inclusieve cultuur en een dynamische sfeer waarin je jezelf optimaal kunt ontwikkelen. Ongeacht de locatie of functie resoneert elke Nike werknemer die ene overkoepelende missie: inspiratie en innovatie bieden aan elke atleet* ter wereld.NIKE, Inc. streeft naar diversiteit van het personeelsbestand. Gekwalificeerde sollicitanten komen in aanmerking, waarbij geen onderscheid wordt gemaakt naar ras, huidskleur, religie, geslacht, afkomst, leeftijd, seksuele geaardheid, genderidentiteit, genderexpressie, veteranenstatus of handicaps.Werving en selectieNIKE, Inc. belooft om iedere kandidaat een eersteklas, inclusieve, fascinerende en authentieke ervaring te bieden. Door deze belofte na te komen kunnen we ervoor zorgen dat je het beste uit jezelf kunt halen. Het is daarom van belang dat je begrijpt hoe het sollicitatieproces verloopt. Transparantie is cruciaal.\n",
      "\n",
      "* In dit overzicht wordt het sollicitatieproces voor zakelijke functies uitgelegd. Let op: Er kunnen andere stappen gelden bij het sollicitatieproces voor personeel in niet-zakelijke functies.Start nuArbeidsvoorwaardenOf het nu gaat om vervoer of om financiële gezondheid, wij blijven investeren in onze medewerkers om ze te helpen topperformance neer te zetten, zowel op het werk als daarbuiten. Iedereen die hier werkt, moet in staat zijn zich volledig te ontplooien.Ondersteuningsregeling voor medewerkersAandelenregeling voor medewerkersVakantiedagenZiektekostenregelingBetaald verlofProductkortingenSabbaticalsMeer infoCADEAUBONNENZOEK EEN STORENIKE JOURNALWORD MEMBERSTUDENTENKORTINGFEEDBACKPROMOTIECODESHELPHELPBestelstatusVerzending en leveringRetourzendingenBetaalmethodesContactNike promotiecodes hulpOVER NIKEOVER NIKENieuwsWerken bij NikeInvesteerdersDuurzaamheidNIKE APPSNIKE APPSNike AppNike Run ClubNike Training ClubSNKRSNederland© 2024 Nike, Inc. Alle rechten voorbehoudenHandleidingenNike AdaptNike FlyEaseNike FreeNike VaporflyNBA-fangearNike AirNike FlyknitNike PegasusNike Zoom FlyFactory StoreNike Air MaxNike FlyleatherNike ReactNike ZoomXNike AirtopiaAlgemene voorwaardenVerkoopvoorwaardenBedrijfsgegevensPrivacy- en cookiebeleidCookie-instellingen\n"
     ]
    }
   ],
   "source": [
    "from langchain_community.document_loaders import WebBaseLoader\n",
    "\n",
    "loader = WebBaseLoader(job_metadata)\n",
    "pageData = loader.load().pop().page_content\n",
    "print(pageData)"
   ]
  },
  {
   "cell_type": "markdown",
   "metadata": {},
   "source": [
    "Creating a prompt"
   ]
  },
  {
   "cell_type": "code",
   "execution_count": 10,
   "metadata": {},
   "outputs": [],
   "source": [
    "from langchain_groq import ChatGroq\n",
    "llm = ChatGroq(\n",
    "  temperature=0,\n",
    "  model_name='llama3-8b-8192',\n",
    "  groq_api_key='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'\n",
    "  \n",
    ")"
   ]
  },
  {
   "cell_type": "code",
   "execution_count": 11,
   "metadata": {},
   "outputs": [
    {
     "name": "stdout",
     "output_type": "stream",
     "text": [
      "Here is the extracted data in JSON format:\n",
      "\n",
      "```\n",
      "{\n",
      "  \"role\": \"Lead Software Engineer\",\n",
      "  \"description\": \"At Nike Global Technology, we power the world's largest sports brand with groundbreaking digital experiences. From our mobile apps to the cloud infrastructure, we are revolutionizing the way we connect with athletes, customers, and teams worldwide.\",\n",
      "  \"requirements\": [\n",
      "    \"Proven experience in software development, with significant hands-on expertise in Java Spring Boot and Python.\",\n",
      "    \"Proficiency in JavaScript frameworks (VueJS/React) with an eagerness to lead the transition from VueJS to ReactJS.\",\n",
      "    \"Advanced experience with AWS cloud services.\",\n",
      "    \"Deep understanding of microservices architecture, API development and distributed systems.\",\n",
      "    \"Experience with DevOps tools (CI/CD pipelines, Jenkins, Git), automated testing, and agile methodologies.\",\n",
      "    \"Excellent leadership and communication skills, with a passion for mentoring and developing teams.\",\n",
      "    \"Ability to manage multiple projects in a fast-paced environment, always striving for technical excellence.\"\n",
      "  ],\n",
      "  \"skills\": [\n",
      "    \"Java Spring Boot\",\n",
      "    \"Python\",\n",
      "    \"JavaScript\",\n",
      "    \"VueJS\",\n",
      "    \"React\",\n",
      "    \"AWS\",\n",
      "    \"Microservices architecture\",\n",
      "    \"API development\",\n",
      "    \"Distributed systems\",\n",
      "    \"DevOps\",\n",
      "    \"CI/CD pipelines\",\n",
      "    \"Jenkins\",\n",
      "    \"Git\",\n",
      "    \"Agile methodologies\"\n",
      "  ]\n",
      "}\n",
      "```\n"
     ]
    }
   ],
   "source": [
    "from langchain_core.prompts import PromptTemplate\n",
    "\n",
    "prompt_template = PromptTemplate.from_template(\n",
    "  \"\"\"\n",
    "    ###Scrapped Text From a Website:{page_Data}\n",
    "    ###Instruction\n",
    "    The scrapped text is from the carrer's page of a website:\n",
    "    Your job is to extract skills, requirements, description and role of the job in JSON format.\n",
    "    Only return the JSON data.\n",
    "    No Preamble\n",
    "    ###Valid JSON. (No Preamble)\n",
    "  \"\"\")\n",
    "\n",
    "\n",
    "#passing the prompt to llm :\n",
    "chain_extract = prompt_template | llm\n",
    "response = chain_extract.invoke(input = {\"page_Data\": pageData})\n",
    "print(response.content)"
   ]
  },
  {
   "cell_type": "markdown",
   "metadata": {},
   "source": []
  },
  {
   "cell_type": "markdown",
   "metadata": {},
   "source": []
  },
  {
   "cell_type": "code",
   "execution_count": 11,
   "metadata": {},
   "outputs": [
    {
     "data": {
      "text/plain": [
       "{'role': 'Lead Software Engineer',\n",
       " 'description': \"At Nike Global Technology, we power the world's largest sports brand with groundbreaking digital experiences. From our mobile apps to the cloud infrastructure, we are revolutionizing the way we connect with athletes, customers, and teams worldwide.\",\n",
       " 'requirements': ['Proven experience in software development, with significant hands-on expertise in Java Spring Boot and Python.',\n",
       "  'Proficiency in JavaScript frameworks (VueJS/React) with an eagerness to lead the transition from VueJS to ReactJS.',\n",
       "  'Advanced experience with AWS cloud services.',\n",
       "  'Deep understanding of microservices architecture, API development and distributed systems.',\n",
       "  'Experience with DevOps tools (CI/CD pipelines, Jenkins, Git), automated testing, and agile methodologies.',\n",
       "  'Excellent leadership and communication skills, with a passion for mentoring and developing teams.',\n",
       "  'Ability to manage multiple projects in a fast-paced environment, always striving for technical excellence.',\n",
       "  \"Continuous learner with a growth mindset, ready to take on new challenges and push the limits of what's possible.\"],\n",
       " 'skills': ['Java Spring Boot',\n",
       "  'Python',\n",
       "  'JavaScript',\n",
       "  'VueJS',\n",
       "  'React',\n",
       "  'AWS',\n",
       "  'Microservices architecture',\n",
       "  'API development',\n",
       "  'Distributed systems',\n",
       "  'DevOps',\n",
       "  'CI/CD pipelines',\n",
       "  'Jenkins',\n",
       "  'Git',\n",
       "  'Agile methodologies']}"
      ]
     },
     "execution_count": 11,
     "metadata": {},
     "output_type": "execute_result"
    }
   ],
   "source": [
    "#converting the above data into json object\n",
    "from langchain_core.output_parsers import JsonOutputParser\n",
    "\n",
    "json_parser = JsonOutputParser()\n",
    "json_res=json_parser.parse(response.content)\n",
    "json_res\n"
   ]
  },
  {
   "cell_type": "code",
   "execution_count": 12,
   "metadata": {},
   "outputs": [
    {
     "data": {
      "text/plain": [
       "dict"
      ]
     },
     "execution_count": 12,
     "metadata": {},
     "output_type": "execute_result"
    }
   ],
   "source": [
    "type(json_res)"
   ]
  },
  {
   "cell_type": "code",
   "execution_count": 13,
   "metadata": {},
   "outputs": [],
   "source": [
    "#now we can use the chromadb such that, the llm can pull the information based on some matching fields based on the vector representation assistance\n",
    "import pandas as pd\n"
   ]
  },
  {
   "cell_type": "code",
   "execution_count": 13,
   "metadata": {},
   "outputs": [
    {
     "name": "stdout",
     "output_type": "stream",
     "text": [
      "Subject: Application for Software Engineer Intern at Nike\n",
      "\n",
      "Dear Hiring Manager,\n",
      "\n",
      "I came across the Software Engineer Intern position at Nike and was excited to learn more about the opportunity. With a strong foundation in Computer Science and Engineering, I am confident that my skills and passion for innovation make me an ideal candidate for this role.\n",
      "\n",
      "As a master's student in Computer Science, I have developed a solid understanding of programming languages, data structures, and software design patterns. My academic projects have allowed me to work on various technologies, including Java, Python, and C++, and I am eager to apply my knowledge in a real-world setting.\n",
      "\n",
      "I am particularly drawn to Nike's commitment to innovation and customer satisfaction. I am impressed by the company's use of technology to drive business results and enhance the customer experience. As someone who is passionate about staying up-to-date with the latest trends and technologies, I believe that I would thrive in Nike's fast-paced and dynamic environment.\n",
      "\n",
      "In addition to my technical skills, I possess excellent communication and teamwork skills, which I believe are essential for success in a collaborative environment like Nike. I am confident that my strong work ethic, attention to detail, and ability to work under pressure would make me a valuable asset to the team.\n",
      "\n",
      "I would be thrilled to discuss my application and how my skills align with the requirements of the Software Engineer Intern position. Please feel free to contact me at [Your Email Address] or [Your Phone Number].\n",
      "\n",
      "Thank you for considering my application. I look forward to the opportunity to contribute to Nike's success.\n",
      "\n",
      "Best regards,\n",
      "\n",
      "[Your Name]\n"
     ]
    }
   ],
   "source": [
    "prompt_email = PromptTemplate.from_template(\n",
    "  \n",
    "  \"\"\"Job Description:\n",
    "  {job_description}\n",
    "  Being a student of masters with a branch of Computer Science engineering. Your Job is to write a cold email regarding the job discussed above in fulfilling the needs. Do not provide a preamble. Keep in mind that you can provide assurance regarding the confidence and work level compatibility of the \n",
    "  student applying for the job.\n",
    "  ##Email (No preamble)\n",
    "  \"\"\"\n",
    ")\n",
    "\n",
    "chain_email = prompt_email | llm\n",
    "res = chain_email.invoke({\"job_description\":str(job_metadata)})\n",
    "print(res.content)"
   ]
  },
  {
   "cell_type": "code",
   "execution_count": null,
   "metadata": {},
   "outputs": [],
   "source": []
  }
 ],
 "metadata": {
  "kernelspec": {
   "display_name": "Python 3",
   "language": "python",
   "name": "python3"
  },
  "language_info": {
   "codemirror_mode": {
    "name": "ipython",
    "version": 3
   },
   "file_extension": ".py",
   "mimetype": "text/x-python",
   "name": "python",
   "nbconvert_exporter": "python",
   "pygments_lexer": "ipython3",
   "version": "3.9.20"
  }
 },
 "nbformat": 4,
 "nbformat_minor": 2
}
